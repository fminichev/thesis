{
 "cells": [
  {
   "cell_type": "code",
   "execution_count": 1,
   "id": "78dff50a",
   "metadata": {},
   "outputs": [],
   "source": [
    "import pandas as pd\n",
    "import os\n",
    "from bs4 import BeautifulSoup\n",
    "\n",
    "PATH_TO_DATA = '../air_data/'"
   ]
  },
  {
   "cell_type": "code",
   "execution_count": 2,
   "id": "0d1b526b",
   "metadata": {},
   "outputs": [],
   "source": [
    "def get_dataframe_from_file(file: str) -> pd.DataFrame :\n",
    "    with open(PATH_TO_DATA + file, 'r') as f:\n",
    "        contents = f.read()\n",
    "        soup = BeautifulSoup(contents, 'lxml')\n",
    "        htmltable = soup.find_all('table')\n",
    "\n",
    "    table_body = htmltable[5].find('tbody')\n",
    "    rows = table_body.find_all('tr')\n",
    "    data = []\n",
    "\n",
    "    for row in rows:\n",
    "        cols = row.find_all('td')\n",
    "        cols = [ele.text.strip() for ele in cols]\n",
    "        data.append([ele for ele in cols if ele]) # Get rid of empty values\n",
    "\n",
    "    df = pd.DataFrame(columns = data[0][:-1])\n",
    "    for i in range(len(data[1:])):\n",
    "        df.loc[i] = data[1:][i]\n",
    "    return df"
   ]
  },
  {
   "cell_type": "code",
   "execution_count": 3,
   "id": "c8ca1328",
   "metadata": {},
   "outputs": [],
   "source": [
    "list_with_dfs = []\n",
    "for file in os.listdir(PATH_TO_DATA)[1:]:\n",
    "    list_with_dfs.append(get_dataframe_from_file(file))\n",
    "df = pd.concat(list_with_dfs).reset_index().drop('index', axis = 1)"
   ]
  },
  {
   "cell_type": "code",
   "execution_count": 7,
   "id": "eee622a9",
   "metadata": {},
   "outputs": [],
   "source": [
    "df.to_csv('../data_preprocessed/data.csv', index = False)"
   ]
  }
 ],
 "metadata": {
  "kernelspec": {
   "display_name": "Python 3",
   "language": "python",
   "name": "python3"
  },
  "language_info": {
   "codemirror_mode": {
    "name": "ipython",
    "version": 3
   },
   "file_extension": ".py",
   "mimetype": "text/x-python",
   "name": "python",
   "nbconvert_exporter": "python",
   "pygments_lexer": "ipython3",
   "version": "3.8.8"
  }
 },
 "nbformat": 4,
 "nbformat_minor": 5
}
