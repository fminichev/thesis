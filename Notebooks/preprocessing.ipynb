{
 "cells": [
  {
   "cell_type": "code",
   "execution_count": 1,
   "id": "794b21e1",
   "metadata": {},
   "outputs": [],
   "source": [
    "import pandas as pd\n",
    "import numpy as np\n",
    "from datetime import timedelta\n",
    "from geopy import distance\n",
    "import itertools\n",
    "import matplotlib.pyplot as plt\n",
    "\n",
    "pd.set_option('display.max_columns', None)"
   ]
  },
  {
   "cell_type": "markdown",
   "id": "d01b0121",
   "metadata": {},
   "source": [
    "# Загрузка данных о перелетах и обработка переменных"
   ]
  },
  {
   "cell_type": "code",
   "execution_count": 2,
   "id": "332418ed",
   "metadata": {},
   "outputs": [
    {
     "data": {
      "text/plain": [
       "(4526, 5)"
      ]
     },
     "execution_count": 2,
     "metadata": {},
     "output_type": "execute_result"
    }
   ],
   "source": [
    "# данные о перелетах в России взяты с этого сайта: https://www.airfleets.net/home/\n",
    "df = pd.read_csv('../data_preprocessed/data.csv')\n",
    "df = df[['Date', 'Flight', 'Departure', 'Arrival', 'Aircraft']]\n",
    "df.shape"
   ]
  },
  {
   "cell_type": "code",
   "execution_count": 3,
   "id": "3a5b8b5c",
   "metadata": {},
   "outputs": [],
   "source": [
    "# переименование столбцов\n",
    "dict_with_names = {'Date':'date', 'Flight':'flight', 'Departure':'dep', 'Arrival':'arr', 'Aircraft':'aircraft'}\n",
    "df.rename(columns = dict_with_names, inplace = True)\n",
    "\n",
    "# Создание новых столбцов\n",
    "df['year'] = df['date'].apply(lambda x: x[6:10])\n",
    "df['date'] = pd.to_datetime(df['date'].apply(lambda x: x[:10]))\n",
    "df['company'] = df['flight'].apply(lambda x: x.split()[0])\n",
    "\n",
    "df['dep_code'] = df['dep'].apply(lambda x: x[:3])\n",
    "df['dep_airport'] = df['dep'].apply(lambda x: x[3:-10]) # убрать пробелы\n",
    "df['dep_airport'] = df['dep_airport'].apply(lambda s: s[:-1] if s[-1] == ' ' else s)\n",
    "\n",
    "df['arr_code'] = df['arr'].apply(lambda x: x[:3])\n",
    "df['arr_airport'] = df['arr'].apply(lambda x: x[3:-10])\n",
    "df['arr_airport'] = df['arr_airport'].apply(lambda s: s[:-1] if s[-1] == ' ' else s)\n",
    "df.drop(columns = ['flight','dep','arr','aircraft'],inplace = True) # избавились от информации о самолёте"
   ]
  },
  {
   "cell_type": "code",
   "execution_count": 4,
   "id": "e181110b",
   "metadata": {},
   "outputs": [
    {
     "data": {
      "text/plain": [
       "<AxesSubplot:>"
      ]
     },
     "execution_count": 4,
     "metadata": {},
     "output_type": "execute_result"
    },
    {
     "data": {
      "image/png": "[encoded data removed]",
      "text/plain": [
       "<Figure size 504x504 with 1 Axes>"
      ]
     },
     "metadata": {
      "needs_background": "light"
     },
     "output_type": "display_data"
    }
   ],
   "source": [
    "df.year.value_counts().sort_index().plot(kind='barh', figsize = (7,7))"
   ]
  },
  {
   "cell_type": "code",
   "execution_count": 5,
   "id": "3a441f98",
   "metadata": {},
   "outputs": [
    {
     "name": "stdout",
     "output_type": "stream",
     "text": [
      "Количество аэропортов, в которые прилетали: 37\n",
      "Количество аэропортов, из которых вылетали: 29\n"
     ]
    }
   ],
   "source": [
    "arr_num, dep_num = df['arr_airport'].nunique(), df['dep_airport'].nunique()\n",
    "print(f'Количество аэропортов, в которые прилетали: {arr_num}')\n",
    "print(f'Количество аэропортов, из которых вылетали: {dep_num}') # это множество - подмножество множества выше"
   ]
  },
  {
   "cell_type": "code",
   "execution_count": 6,
   "id": "7f8d1441",
   "metadata": {},
   "outputs": [
    {
     "name": "stdout",
     "output_type": "stream",
     "text": [
      "37\n",
      "True\n",
      "True\n"
     ]
    }
   ],
   "source": [
    "set_1 = set(df['arr_airport'].unique())\n",
    "set_2 = set(df['dep_airport'].unique())\n",
    "set_3 = set_1.union(set_2)\n",
    "print(len(set_3))\n",
    "print(set_3 == set_1)\n",
    "print(set_2.issubset(set_1))"
   ]
  },
  {
   "cell_type": "markdown",
   "id": "cda60744",
   "metadata": {},
   "source": [
    "# Добавление данных о координатах и типах аэропортов"
   ]
  },
  {
   "cell_type": "code",
   "execution_count": 7,
   "id": "2b187bbf",
   "metadata": {},
   "outputs": [],
   "source": [
    "# Данные получены с этого сайта: https://www.prokerala.com/travel/airports/russia/\n",
    "# и этого: https://ourairports.com/\n",
    "arr_conditions = [\n",
    "    (df['arr_airport'] == 'Adler'),\n",
    "    (df['arr_airport'] == 'Anapa'),\n",
    "    (df['arr_airport'] == 'Belgorod'), # X\n",
    "    (df['arr_airport'] == 'Bryansk'), # X\n",
    "    (df['arr_airport'] == 'Chelyabinsk'),\n",
    "    (df['arr_airport'] == 'Cherepovets'), # X\n",
    "    (df['arr_airport'] == 'Ekaterinburg'),\n",
    "    (df['arr_airport'] == 'Irkutsk'),\n",
    "    (df['arr_airport'] == 'Kaliningrad Khrabrovo Airport'),\n",
    "    (df['arr_airport'] == 'Kazan'),\n",
    "    (df['arr_airport'] == 'Kemerovo'), # X\n",
    "    (df['arr_airport'] == 'Khabarovsk'),\n",
    "    (df['arr_airport'] == 'Krasnodar Pashkovskiy'),\n",
    "    (df['arr_airport'] == 'Krasnojarsk'),\n",
    "    (df['arr_airport'] == 'Magadan'),\n",
    "    (df['arr_airport'] == 'Mineralnyye Vody'),\n",
    "    (df['arr_airport'] == 'Moscow Domodedovo'),\n",
    "    (df['arr_airport'] == 'Moscow Sheremetyevo'),\n",
    "    (df['arr_airport'] == 'Moscow Vnukovo'),\n",
    "    (df['arr_airport'] == 'Moscow Zhukovsky'), # X\n",
    "    (df['arr_airport'] == 'Murmansk'), # X\n",
    "    (df['arr_airport'] == 'Nizhniy Novgorod'),\n",
    "    (df['arr_airport'] == 'Novosibirsk'),\n",
    "    (df['arr_airport'] == 'Omsk'), # X\n",
    "    (df['arr_airport'] == 'Perm Oblast'),\n",
    "    (df['arr_airport'] == 'Rostov'),\n",
    "    (df['arr_airport'] == 'Samara'),\n",
    "    (df['arr_airport'] == 'St Petersburg Pulkovo'),\n",
    "    (df['arr_airport'] == 'Surgut'),\n",
    "    (df['arr_airport'] == 'Tomsk'),\n",
    "    (df['arr_airport'] == 'Tyumen'),\n",
    "    (df['arr_airport'] == 'Ufa'),\n",
    "    (df['arr_airport'] == 'Vladivostok'),\n",
    "    (df['arr_airport'] == 'Volgograd'), # X\n",
    "    (df['arr_airport'] == 'Voronezh'),\n",
    "    (df['arr_airport'] == 'Yakutsk'),\n",
    "    (df['arr_airport'] == 'Yuzhno-Sakhalinsk')\n",
    "    ]\n",
    "\n",
    "lat = [43.445,45.0021,50.6433,53.2142,55.305,59.2736,56.743099,52.2681,\n",
    "       54.8827,55.6062,55.2717,48.528338,45.034698,56.1717,\n",
    "       59.9111,44.225,55.4086,55.9739,55.6041,55.553299,68.7817,\n",
    "       56.23,55.019756,54.9575,57.9167,47.2583,53.504902,\n",
    "       59.800301,61.343700,56.380299,57.189602,54.5575,\n",
    "       43.399,48.7817,51.814201,62.0933,46.8837]\n",
    "\n",
    "long = [39.9483,37.3473,36.59,34.1764,61.505,38.0158,60.802700,104.389,\n",
    "       20.5866,49.2787,86.11,135.188588,39.170502,92.4933,\n",
    "       150.721,43.0833,37.9061,37.4141,37.2909,38.150002,32.7508,\n",
    "       43.7867,82.618675,73.3167,56.0267,39.8183,50.164299,\n",
    "       30.262501,73.401802,85.208298,65.324303,55.8744,\n",
    "       132.148,44.3467,39.229599,129.772,142.742]\n",
    "\n",
    "airport_type = ['Large','Medium','Medium','Medium','Medium','Medium','Large','Medium',\n",
    "                'Medium','Medium','Medium','Medium','Medium','Large',\n",
    "                'Medium','Medium','Large','Large','Medium','Large','Medium',\n",
    "                'Medium','Large','Medium','Medium','Medium','Large',\n",
    "                'Large','Medium','Medium','Medium','Large',\n",
    "                'Medium','Medium','Medium','Medium','Medium']\n",
    "\n",
    "df['arr_lat'] = np.select(arr_conditions, lat)\n",
    "df['arr_long'] = np.select(arr_conditions, long)\n",
    "df['arr_coord'] = list(zip(df['arr_lat'],df['arr_long']))\n",
    "df['arr_airport_type'] = np.select(arr_conditions, airport_type)"
   ]
  },
  {
   "cell_type": "code",
   "execution_count": 8,
   "id": "0a57d4c3",
   "metadata": {},
   "outputs": [],
   "source": [
    "# Данные получены с этого сайта: https://www.prokerala.com/travel/airports/russia/\n",
    "# и этого: https://ourairports.com/\n",
    "dep_conditions = [\n",
    "    (df['dep_airport'] == 'Adler'),\n",
    "    (df['dep_airport'] == 'Anapa'),\n",
    "    (df['dep_airport'] == 'Chelyabinsk'),\n",
    "    (df['dep_airport'] == 'Ekaterinburg'),\n",
    "    (df['dep_airport'] == 'Irkutsk'),\n",
    "    (df['dep_airport'] == 'Kaliningrad Khrabrovo Airport'),\n",
    "    (df['dep_airport'] == 'Kazan'),\n",
    "    (df['dep_airport'] == 'Khabarovsk'),\n",
    "    (df['dep_airport'] == 'Krasnodar Pashkovskiy'),\n",
    "    (df['dep_airport'] == 'Krasnojarsk'),\n",
    "    (df['dep_airport'] == 'Magadan'),\n",
    "    (df['dep_airport'] == 'Mineralnyye Vody'),\n",
    "    (df['dep_airport'] == 'Moscow Domodedovo'),\n",
    "    (df['dep_airport'] == 'Moscow Sheremetyevo'),\n",
    "    (df['dep_airport'] == 'Moscow Vnukovo'),\n",
    "    (df['dep_airport'] == 'Nizhniy Novgorod'),\n",
    "    (df['dep_airport'] == 'Novosibirsk'),\n",
    "    (df['dep_airport'] == 'Perm Oblast'),\n",
    "    (df['dep_airport'] == 'Rostov'),\n",
    "    (df['dep_airport'] == 'Samara'),\n",
    "    (df['dep_airport'] == 'St Petersburg Pulkovo'),\n",
    "    (df['dep_airport'] == 'Surgut'),\n",
    "    (df['dep_airport'] == 'Tomsk'),\n",
    "    (df['dep_airport'] == 'Tyumen'),\n",
    "    (df['dep_airport'] == 'Ufa'),\n",
    "    (df['dep_airport'] == 'Vladivostok'),\n",
    "    (df['dep_airport'] == 'Voronezh'),\n",
    "    (df['dep_airport'] == 'Yakutsk'),\n",
    "    (df['dep_airport'] == 'Yuzhno-Sakhalinsk')\n",
    "    ]\n",
    "\n",
    "lat = [43.445,45.0021,55.305,56.743099,52.2681,\n",
    "       54.8827,55.6062,48.528338,45.034698,56.1717,\n",
    "       59.9111,44.225,55.4086,55.9739,55.6041,\n",
    "       56.23,55.019756,57.9167,47.2583,53.504902,\n",
    "       59.800301,61.343700,56.380299,57.189602,54.5575,\n",
    "       43.399,51.814201,62.0933,46.8837]\n",
    "\n",
    "long = [39.9483,37.3473,61.505,60.802700,104.389,\n",
    "       20.5866,49.2787,135.188588,39.170502,92.4933,\n",
    "       150.721,43.0833,37.9061,37.4141,37.2909,\n",
    "       43.7867,82.618675,56.0267,39.8183,50.164299,\n",
    "       30.262501,73.401802,85.208298,65.324303,55.8744,\n",
    "       132.148,39.229599,129.772,142.742]\n",
    "\n",
    "airport_type = ['Large','Medium','Medium','Large','Medium',\n",
    "                'Medium','Medium','Medium','Medium','Large',\n",
    "                'Medium','Medium','Large','Large','Medium',\n",
    "                'Medium','Large','Medium','Medium','Large',\n",
    "                'Large','Medium','Medium','Medium','Large',\n",
    "                'Medium','Medium','Medium','Medium']\n",
    "\n",
    "df['dep_lat'] = np.select(dep_conditions, lat)\n",
    "df['dep_long'] = np.select(dep_conditions, long)\n",
    "df['dep_coord'] = list(zip(df['dep_lat'],df['dep_long']))\n",
    "df['dep_airport_type'] = np.select(dep_conditions, airport_type)"
   ]
  },
  {
   "cell_type": "markdown",
   "id": "549c2228",
   "metadata": {},
   "source": [
    "### Добавление данных о населении городов"
   ]
  },
  {
   "cell_type": "code",
   "execution_count": 9,
   "id": "621687d4",
   "metadata": {},
   "outputs": [],
   "source": [
    "# Данные о населении городов на 1 января 2018 года: https://города-россия.рф\n",
    "arr_conditions = [\n",
    "    (df['arr_airport'] == 'Adler'),\n",
    "    (df['arr_airport'] == 'Anapa'),\n",
    "    (df['arr_airport'] == 'Belgorod'), \n",
    "    (df['arr_airport'] == 'Bryansk'), \n",
    "    (df['arr_airport'] == 'Chelyabinsk'),\n",
    "    (df['arr_airport'] == 'Cherepovets'), \n",
    "    (df['arr_airport'] == 'Ekaterinburg'),\n",
    "    (df['arr_airport'] == 'Irkutsk'),\n",
    "    (df['arr_airport'] == 'Kaliningrad Khrabrovo Airport'),\n",
    "    (df['arr_airport'] == 'Kazan'),\n",
    "    (df['arr_airport'] == 'Kemerovo'), \n",
    "    (df['arr_airport'] == 'Khabarovsk'),\n",
    "    (df['arr_airport'] == 'Krasnodar Pashkovskiy'),\n",
    "    (df['arr_airport'] == 'Krasnojarsk'),\n",
    "    (df['arr_airport'] == 'Magadan'),\n",
    "    (df['arr_airport'] == 'Mineralnyye Vody'),\n",
    "    (df['arr_airport'] == 'Moscow Domodedovo'),\n",
    "    (df['arr_airport'] == 'Moscow Sheremetyevo'),\n",
    "    (df['arr_airport'] == 'Moscow Vnukovo'),\n",
    "    (df['arr_airport'] == 'Moscow Zhukovsky'), \n",
    "    (df['arr_airport'] == 'Murmansk'), \n",
    "    (df['arr_airport'] == 'Nizhniy Novgorod'),\n",
    "    (df['arr_airport'] == 'Novosibirsk'),\n",
    "    (df['arr_airport'] == 'Omsk'), \n",
    "    (df['arr_airport'] == 'Perm Oblast'),\n",
    "    (df['arr_airport'] == 'Rostov'),\n",
    "    (df['arr_airport'] == 'Samara'),\n",
    "    (df['arr_airport'] == 'St Petersburg Pulkovo'),\n",
    "    (df['arr_airport'] == 'Surgut'),\n",
    "    (df['arr_airport'] == 'Tomsk'),\n",
    "    (df['arr_airport'] == 'Tyumen'),\n",
    "    (df['arr_airport'] == 'Ufa'),\n",
    "    (df['arr_airport'] == 'Vladivostok'),\n",
    "    (df['arr_airport'] == 'Volgograd'), \n",
    "    (df['arr_airport'] == 'Voronezh'),\n",
    "    (df['arr_airport'] == 'Yakutsk'),\n",
    "    (df['arr_airport'] == 'Yuzhno-Sakhalinsk')\n",
    "    ]\n",
    "\n",
    "arr_population = [424,76,392,406,1202,\n",
    "                  318,1469,624,475,1244,\n",
    "                  559,618,900,1091,93,\n",
    "                  75,12506,12506,12506,12506,\n",
    "                  295,1259,1613,1172,1052,\n",
    "                  1130,1163,5352,366,574,\n",
    "                  768,1121,605,1014,1048,\n",
    "                  312,199]\n",
    "df['arr_population'] = np.select(arr_conditions, arr_population)"
   ]
  },
  {
   "cell_type": "code",
   "execution_count": 10,
   "id": "08274c4c",
   "metadata": {},
   "outputs": [],
   "source": [
    "# Данные о населении городов на 1 января 2018 года: https://города-россия.рф\n",
    "dep_conditions = [\n",
    "    (df['dep_airport'] == 'Adler'),\n",
    "    (df['dep_airport'] == 'Anapa'),\n",
    "    (df['dep_airport'] == 'Belgorod'), \n",
    "    (df['dep_airport'] == 'Bryansk'), \n",
    "    (df['dep_airport'] == 'Chelyabinsk'),\n",
    "    (df['dep_airport'] == 'Cherepovets'), \n",
    "    (df['dep_airport'] == 'Ekaterinburg'),\n",
    "    (df['dep_airport'] == 'Irkutsk'),\n",
    "    (df['dep_airport'] == 'Kaliningrad Khrabrovo Airport'),\n",
    "    (df['dep_airport'] == 'Kazan'),\n",
    "    (df['dep_airport'] == 'Kemerovo'), \n",
    "    (df['dep_airport'] == 'Khabarovsk'),\n",
    "    (df['dep_airport'] == 'Krasnodar Pashkovskiy'),\n",
    "    (df['dep_airport'] == 'Krasnojarsk'),\n",
    "    (df['dep_airport'] == 'Magadan'),\n",
    "    (df['dep_airport'] == 'Mineralnyye Vody'),\n",
    "    (df['dep_airport'] == 'Moscow Domodedovo'),\n",
    "    (df['dep_airport'] == 'Moscow Sheremetyevo'),\n",
    "    (df['dep_airport'] == 'Moscow Vnukovo'),\n",
    "    (df['dep_airport'] == 'Moscow Zhukovsky'), \n",
    "    (df['dep_airport'] == 'Murmansk'), \n",
    "    (df['dep_airport'] == 'Nizhniy Novgorod'),\n",
    "    (df['dep_airport'] == 'Novosibirsk'),\n",
    "    (df['dep_airport'] == 'Omsk'), \n",
    "    (df['dep_airport'] == 'Perm Oblast'),\n",
    "    (df['dep_airport'] == 'Rostov'),\n",
    "    (df['dep_airport'] == 'Samara'),\n",
    "    (df['dep_airport'] == 'St Petersburg Pulkovo'),\n",
    "    (df['dep_airport'] == 'Surgut'),\n",
    "    (df['dep_airport'] == 'Tomsk'),\n",
    "    (df['dep_airport'] == 'Tyumen'),\n",
    "    (df['dep_airport'] == 'Ufa'),\n",
    "    (df['dep_airport'] == 'Vladivostok'),\n",
    "    (df['dep_airport'] == 'Volgograd'), \n",
    "    (df['dep_airport'] == 'Voronezh'),\n",
    "    (df['dep_airport'] == 'Yakutsk'),\n",
    "    (df['dep_airport'] == 'Yuzhno-Sakhalinsk')\n",
    "    ]\n",
    "\n",
    "dep_population = [424,76,392,406,1202,\n",
    "                  318,1469,624,475,1244,\n",
    "                  559,618,900,1091,93,\n",
    "                  75,12506,12506,12506,12506,\n",
    "                  295,1259,1613,1172,1052,\n",
    "                  1130,1163,5352,366,574,\n",
    "                  768,1121,605,1014,1048,\n",
    "                  312,199]\n",
    "df['dep_population'] = np.select(dep_conditions, dep_population)"
   ]
  },
  {
   "cell_type": "markdown",
   "id": "708df564",
   "metadata": {},
   "source": [
    "# Добавление информации о том, является ли город миллионером и туристическим"
   ]
  },
  {
   "cell_type": "code",
   "execution_count": 11,
   "id": "c5198f8c",
   "metadata": {},
   "outputs": [],
   "source": [
    "df['arr_megapolis'] = (df['arr_population']>1000)*1\n",
    "df['dep_megapolis'] = (df['dep_population']>1000)*1"
   ]
  },
  {
   "cell_type": "code",
   "execution_count": 12,
   "id": "79f2b0a3",
   "metadata": {},
   "outputs": [],
   "source": [
    "# данные взяты с сайта: http://towntravel.ru/interesnie-fakti-o-gorodah-rossyi/samye-populyarnye-goroda-rossii-top-50-za-2018-2019-god.html\n",
    "# рейтинг туристических городов создан на основе поисковых запросов в Яндексе за 2018 и 2019 год: «достопримечательности… » и «что посмотреть в… »\n",
    "df['arr_tourist'] = ((df['arr_airport'] == 'Moscow Domodedovo') |\n",
    "(df['arr_airport'] == 'Moscow Sheremetyevo') | (df['arr_airport'] == 'Moscow Vnukovo') |\n",
    "(df['arr_airport'] == 'Moscow Zhukovsky') | (df['arr_airport'] == 'St Petersburg Pulkovo') |\n",
    "(df['arr_airport'] == 'Kazan') | (df['arr_airport'] == 'Adler'))*1\n",
    "\n",
    "df['dep_tourist'] = ((df['dep_airport'] == 'Moscow Domodedovo') |\n",
    "(df['dep_airport'] == 'Moscow Sheremetyevo') | (df['dep_airport'] == 'Moscow Vnukovo') |\n",
    "(df['dep_airport'] == 'Moscow Zhukovsky') | (df['dep_airport'] == 'St Petersburg Pulkovo') |\n",
    "(df['dep_airport'] == 'Kazan') | (df['dep_airport'] == 'Adler'))*1"
   ]
  },
  {
   "cell_type": "markdown",
   "id": "35a5f0dd",
   "metadata": {},
   "source": [
    "# Добавление пары городов"
   ]
  },
  {
   "cell_type": "code",
   "execution_count": 13,
   "id": "5368b6e5",
   "metadata": {},
   "outputs": [],
   "source": [
    "df['pair'] = df.apply(lambda df: min(df.arr_code,df.dep_code)+'_'+max(df.arr_code,df.dep_code), axis = 1)"
   ]
  },
  {
   "cell_type": "markdown",
   "id": "4fa1caaf",
   "metadata": {},
   "source": [
    "# Добавление бинарного таргета"
   ]
  },
  {
   "cell_type": "code",
   "execution_count": 14,
   "id": "26ae658e",
   "metadata": {},
   "outputs": [],
   "source": [
    "df['entry'] = 1"
   ]
  },
  {
   "cell_type": "markdown",
   "id": "9048a75d",
   "metadata": {},
   "source": [
    "# Создание датасета с характеристиками аэропортов"
   ]
  },
  {
   "cell_type": "code",
   "execution_count": 15,
   "id": "21e21c35",
   "metadata": {},
   "outputs": [
    {
     "name": "stderr",
     "output_type": "stream",
     "text": [
      "C:\\Users\\fedor\\anaconda3\\lib\\site-packages\\pandas\\core\\frame.py:4441: SettingWithCopyWarning: \n",
      "A value is trying to be set on a copy of a slice from a DataFrame\n",
      "\n",
      "See the caveats in the documentation: https://pandas.pydata.org/pandas-docs/stable/user_guide/indexing.html#returning-a-view-versus-a-copy\n",
      "  return super().rename(\n",
      "<ipython-input-15-e75e6dccab94>:6: SettingWithCopyWarning: \n",
      "A value is trying to be set on a copy of a slice from a DataFrame\n",
      "\n",
      "See the caveats in the documentation: https://pandas.pydata.org/pandas-docs/stable/user_guide/indexing.html#returning-a-view-versus-a-copy\n",
      "  airport_data.drop_duplicates(inplace = True)\n"
     ]
    }
   ],
   "source": [
    "airport_data = df[['arr_code','arr_airport','arr_coord','arr_airport_type',\n",
    "                   'arr_population','arr_megapolis','arr_tourist']]\n",
    "dict_with_names = {'arr_code':'code','arr_airport':'airport','arr_coord':'coord','arr_airport_type':'type',\n",
    "                   'arr_population':'population','arr_megapolis':'megapolis','arr_tourist':'tourist'}\n",
    "airport_data.rename(columns = dict_with_names, inplace = True)\n",
    "airport_data.drop_duplicates(inplace = True)"
   ]
  },
  {
   "cell_type": "markdown",
   "id": "3e11b2a0",
   "metadata": {},
   "source": [
    "# Создание развернутых датасетов за определенные годы"
   ]
  },
  {
   "cell_type": "code",
   "execution_count": 16,
   "id": "1c3ff0ee",
   "metadata": {},
   "outputs": [],
   "source": [
    "def make_df_with_entry(df, airport_data, period_1: str, period_2: str):\n",
    "    df_first = df[df['year'] == period_1]\n",
    "    df_second = df[df['year'] == period_2]\n",
    "\n",
    "    set_1, set_2, set_3, set_4 = set(df_first['arr_code'].unique()),set(df_second['arr_code'].unique()),\\\n",
    "    set(df_first['dep_code'].unique()),set(df_second['dep_code'].unique())\n",
    "    airports = list(set_1.union(set_2,set_3,set_4))\n",
    "\n",
    "    list_combo = list(itertools.combinations(airports,2))\n",
    "    data = pd.DataFrame()\n",
    "    data['code_0'] = [item[0] for item in list_combo]\n",
    "    data['code_1'] = [item[1] for item in list_combo]\n",
    "\n",
    "    data['pair'] = data.apply(lambda data: min(data.code_0,data.code_1)+'_'+max(data.code_0,data.code_1) if data.code_0 != data.code_1 else 'DROP', axis = 1)\n",
    "    data.drop(data[data.pair == 'DROP'].index, inplace=True)\n",
    "\n",
    "    # убираем перелеты из Мск в Мск\n",
    "    msc = list(\n",
    "        itertools.product(df[df['arr_airport'].apply(lambda s: s[:6]) == 'Moscow']['arr_code'].unique(),\n",
    "                          df[df['arr_airport'].apply(lambda s: s[:6]) == 'Moscow']['arr_code'].unique()))\n",
    "    new_list = []\n",
    "    for item in msc:\n",
    "        new_list.append(item[0] + '_' + item[1])\n",
    "    data = data[~data['pair'].isin(new_list)]\n",
    "\n",
    "    companies = list(set(df_second['company'].unique()))\n",
    "    data_new = pd.DataFrame({'company':companies}).merge(data['pair'], how = 'cross')\n",
    "    data_new = data_new.merge(data, how = 'left')\n",
    "\n",
    "    airport_df = airport_data.copy()\n",
    "    airport_df.columns = [x + '_0' for x in airport_data.columns]\n",
    "    data_new = data_new.merge(airport_df)\n",
    "\n",
    "    airport_df = airport_data.copy()\n",
    "    airport_df.columns = [x + '_1' for x in airport_data.columns]\n",
    "    data_new = data_new.merge(airport_df)\n",
    "\n",
    "    df_first_grouped = df_first.groupby(['company','pair'])['entry'].first().reset_index()\n",
    "    df_second_grouped = df_second.groupby(['company','pair'])['entry'].first().reset_index()\n",
    "\n",
    "    data_first = data_new.merge(df_first_grouped, how ='left').fillna(0)\n",
    "    data_second = data_new.merge(df_second_grouped, how ='left').fillna(0)\n",
    "    final_data = data_second.copy()\n",
    "    \n",
    "    dict_with_num_airports = dict()\n",
    "    for company, mdf in data_first.groupby('company'):\n",
    "        dict_with_num_airports[company] = len(list(set(mdf[mdf['entry'] == 1].code_0.unique()).union(\n",
    "            set(mdf[mdf['entry'] == 1].code_1.unique()))))\n",
    "    final_data['served_airports_pr_period'] = final_data.company.map(dict_with_num_airports)\n",
    "    \n",
    "    list_with_neigh_airports = []\n",
    "    for index, row in data_first.iterrows():\n",
    "        tmp = data_first[(data_first['company'] == row['company']) &\\\n",
    "                         ~((data_first['code_0'] == row['code_0']) & (data_first['code_1'] == row['code_1']))]\n",
    "        num = tmp[(tmp['code_0'] == row['code_0']) | (tmp['code_0'] == row['code_1']) |\\\n",
    "                 (tmp['code_1'] == row['code_0']) | (tmp['code_1'] == row['code_1'])].entry.sum()\n",
    "        list_with_neigh_airports.append(num)\n",
    "    final_data['neigh_airports_pr_period'] = list_with_neigh_airports\n",
    "    \n",
    "    final_data['entry'] = data_second.entry\n",
    "    final_data['entry_2'] = (data_second.entry - data_first.entry == 1)*1\n",
    "    final_data['distance_km'] = final_data.apply(lambda data: distance.distance(data.coord_0, data.coord_1).km, axis = 1)\n",
    "    final_data['distance_km_squared'] = final_data['distance_km']**2\n",
    "    \n",
    "    final_data['type_0'] = (final_data['type_0'] == 'Large')*1\n",
    "    final_data['type_1'] = (final_data['type_1'] == 'Large')*1\n",
    "    final_data['airport_type'] = final_data['type_0'] + final_data['type_1']\n",
    "    final_data['population'] = (final_data['population_0'] * final_data['population_1'])**0.5\n",
    "    final_data['megapolis'] = final_data['megapolis_0'] + final_data['megapolis_1']\n",
    "    final_data['tourist'] = final_data['tourist_0'] + final_data['tourist_1']\n",
    "    \n",
    "    final_data = final_data[['company','served_airports_pr_period','neigh_airports_pr_period','pair',\n",
    "                             'airport_type','population','megapolis','tourist',\n",
    "                             'distance_km','distance_km_squared','entry','entry_2']]\n",
    "    return final_data"
   ]
  },
  {
   "cell_type": "code",
   "execution_count": 17,
   "id": "d0bfe658",
   "metadata": {},
   "outputs": [],
   "source": [
    "df_2013_2014 = make_df_with_entry(df, airport_data, '2013', '2014')\n",
    "df_2014_2015 = make_df_with_entry(df, airport_data, '2014', '2015')\n",
    "df_2015_2016 = make_df_with_entry(df, airport_data, '2015', '2016')\n",
    "df_2016_2017 = make_df_with_entry(df, airport_data, '2016', '2017')\n",
    "df_2017_2018 = make_df_with_entry(df, airport_data, '2017', '2018')"
   ]
  },
  {
   "cell_type": "code",
   "execution_count": 18,
   "id": "711f1dc4",
   "metadata": {},
   "outputs": [
    {
     "data": {
      "text/html": [
       "<div>\n",
       "<style scoped>\n",
       "    .dataframe tbody tr th:only-of-type {\n",
       "        vertical-align: middle;\n",
       "    }\n",
       "\n",
       "    .dataframe tbody tr th {\n",
       "        vertical-align: top;\n",
       "    }\n",
       "\n",
       "    .dataframe thead th {\n",
       "        text-align: right;\n",
       "    }\n",
       "</style>\n",
       "<table border=\"1\" class=\"dataframe\">\n",
       "  <thead>\n",
       "    <tr style=\"text-align: right;\">\n",
       "      <th></th>\n",
       "      <th>company</th>\n",
       "      <th>served_airports_pr_period</th>\n",
       "      <th>neigh_airports_pr_period</th>\n",
       "      <th>pair</th>\n",
       "      <th>airport_type</th>\n",
       "      <th>population</th>\n",
       "      <th>megapolis</th>\n",
       "      <th>tourist</th>\n",
       "      <th>distance_km</th>\n",
       "      <th>distance_km_squared</th>\n",
       "      <th>entry</th>\n",
       "      <th>entry_2</th>\n",
       "    </tr>\n",
       "  </thead>\n",
       "  <tbody>\n",
       "    <tr>\n",
       "      <th>0</th>\n",
       "      <td>AFL</td>\n",
       "      <td>9</td>\n",
       "      <td>0.0</td>\n",
       "      <td>CEK_OVB</td>\n",
       "      <td>1</td>\n",
       "      <td>1392.417323</td>\n",
       "      <td>2</td>\n",
       "      <td>0</td>\n",
       "      <td>1340.909008</td>\n",
       "      <td>1.798037e+06</td>\n",
       "      <td>0.0</td>\n",
       "      <td>0</td>\n",
       "    </tr>\n",
       "    <tr>\n",
       "      <th>1</th>\n",
       "      <td>SDM</td>\n",
       "      <td>4</td>\n",
       "      <td>0.0</td>\n",
       "      <td>CEK_OVB</td>\n",
       "      <td>1</td>\n",
       "      <td>1392.417323</td>\n",
       "      <td>2</td>\n",
       "      <td>0</td>\n",
       "      <td>1340.909008</td>\n",
       "      <td>1.798037e+06</td>\n",
       "      <td>0.0</td>\n",
       "      <td>0</td>\n",
       "    </tr>\n",
       "    <tr>\n",
       "      <th>2</th>\n",
       "      <td>HZ</td>\n",
       "      <td>2</td>\n",
       "      <td>0.0</td>\n",
       "      <td>CEK_OVB</td>\n",
       "      <td>1</td>\n",
       "      <td>1392.417323</td>\n",
       "      <td>2</td>\n",
       "      <td>0</td>\n",
       "      <td>1340.909008</td>\n",
       "      <td>1.798037e+06</td>\n",
       "      <td>0.0</td>\n",
       "      <td>0</td>\n",
       "    </tr>\n",
       "    <tr>\n",
       "      <th>3</th>\n",
       "      <td>AUL</td>\n",
       "      <td>0</td>\n",
       "      <td>0.0</td>\n",
       "      <td>CEK_OVB</td>\n",
       "      <td>1</td>\n",
       "      <td>1392.417323</td>\n",
       "      <td>2</td>\n",
       "      <td>0</td>\n",
       "      <td>1340.909008</td>\n",
       "      <td>1.798037e+06</td>\n",
       "      <td>0.0</td>\n",
       "      <td>0</td>\n",
       "    </tr>\n",
       "    <tr>\n",
       "      <th>4</th>\n",
       "      <td>5N</td>\n",
       "      <td>0</td>\n",
       "      <td>0.0</td>\n",
       "      <td>CEK_OVB</td>\n",
       "      <td>1</td>\n",
       "      <td>1392.417323</td>\n",
       "      <td>2</td>\n",
       "      <td>0</td>\n",
       "      <td>1340.909008</td>\n",
       "      <td>1.798037e+06</td>\n",
       "      <td>0.0</td>\n",
       "      <td>0</td>\n",
       "    </tr>\n",
       "  </tbody>\n",
       "</table>\n",
       "</div>"
      ],
      "text/plain": [
       "  company  served_airports_pr_period  neigh_airports_pr_period     pair  \\\n",
       "0     AFL                          9                       0.0  CEK_OVB   \n",
       "1     SDM                          4                       0.0  CEK_OVB   \n",
       "2      HZ                          2                       0.0  CEK_OVB   \n",
       "3     AUL                          0                       0.0  CEK_OVB   \n",
       "4      5N                          0                       0.0  CEK_OVB   \n",
       "\n",
       "   airport_type   population  megapolis  tourist  distance_km  \\\n",
       "0             1  1392.417323          2        0  1340.909008   \n",
       "1             1  1392.417323          2        0  1340.909008   \n",
       "2             1  1392.417323          2        0  1340.909008   \n",
       "3             1  1392.417323          2        0  1340.909008   \n",
       "4             1  1392.417323          2        0  1340.909008   \n",
       "\n",
       "   distance_km_squared  entry  entry_2  \n",
       "0         1.798037e+06    0.0        0  \n",
       "1         1.798037e+06    0.0        0  \n",
       "2         1.798037e+06    0.0        0  \n",
       "3         1.798037e+06    0.0        0  \n",
       "4         1.798037e+06    0.0        0  "
      ]
     },
     "execution_count": 18,
     "metadata": {},
     "output_type": "execute_result"
    }
   ],
   "source": [
    "df_2017_2018.head()"
   ]
  },
  {
   "cell_type": "code",
   "execution_count": 26,
   "id": "f2a68cad",
   "metadata": {},
   "outputs": [
    {
     "data": {
      "text/plain": [
       "0    0.994949\n",
       "1    0.005051\n",
       "Name: entry_2, dtype: float64"
      ]
     },
     "execution_count": 26,
     "metadata": {},
     "output_type": "execute_result"
    }
   ],
   "source": [
    "df_2013_2014.entry_2.value_counts(normalize = True)"
   ]
  },
  {
   "cell_type": "code",
   "execution_count": 27,
   "id": "96fe4954",
   "metadata": {},
   "outputs": [
    {
     "data": {
      "text/plain": [
       "0    0.993897\n",
       "1    0.006103\n",
       "Name: entry_2, dtype: float64"
      ]
     },
     "execution_count": 27,
     "metadata": {},
     "output_type": "execute_result"
    }
   ],
   "source": [
    "df_2014_2015.entry_2.value_counts(normalize = True)"
   ]
  },
  {
   "cell_type": "code",
   "execution_count": 28,
   "id": "40ccb676",
   "metadata": {},
   "outputs": [
    {
     "data": {
      "text/plain": [
       "0    0.99297\n",
       "1    0.00703\n",
       "Name: entry_2, dtype: float64"
      ]
     },
     "execution_count": 28,
     "metadata": {},
     "output_type": "execute_result"
    }
   ],
   "source": [
    "df_2015_2016.entry_2.value_counts(normalize = True)"
   ]
  },
  {
   "cell_type": "code",
   "execution_count": 29,
   "id": "04e0be67",
   "metadata": {},
   "outputs": [
    {
     "data": {
      "text/plain": [
       "0    0.99376\n",
       "1    0.00624\n",
       "Name: entry_2, dtype: float64"
      ]
     },
     "execution_count": 29,
     "metadata": {},
     "output_type": "execute_result"
    }
   ],
   "source": [
    "df_2016_2017.entry_2.value_counts(normalize = True)"
   ]
  },
  {
   "cell_type": "code",
   "execution_count": 30,
   "id": "32ac486a",
   "metadata": {},
   "outputs": [
    {
     "data": {
      "text/plain": [
       "0    0.993426\n",
       "1    0.006574\n",
       "Name: entry_2, dtype: float64"
      ]
     },
     "execution_count": 30,
     "metadata": {},
     "output_type": "execute_result"
    }
   ],
   "source": [
    "df_2017_2018.entry_2.value_counts(normalize = True)"
   ]
  },
  {
   "cell_type": "code",
   "execution_count": 33,
   "id": "c6e12d14",
   "metadata": {},
   "outputs": [
    {
     "data": {
      "text/plain": [
       "0.0062"
      ]
     },
     "execution_count": 33,
     "metadata": {},
     "output_type": "execute_result"
    }
   ],
   "source": [
    "np.mean([round(df_2013_2014.entry_2.value_counts(normalize = True)[1],3),\n",
    " round(df_2014_2015.entry_2.value_counts(normalize = True)[1],3),\n",
    " round(df_2015_2016.entry_2.value_counts(normalize = True)[1],3),\n",
    " round(df_2016_2017.entry_2.value_counts(normalize = True)[1],3),\n",
    " round(df_2017_2018.entry_2.value_counts(normalize = True)[1],3)])"
   ]
  },
  {
   "cell_type": "code",
   "execution_count": 25,
   "id": "6b8ab54c",
   "metadata": {},
   "outputs": [],
   "source": [
    "df_2013_2014.to_csv('../data_preprocessed/data_2013_2014.csv', index = False)\n",
    "df_2014_2015.to_csv('../data_preprocessed/data_2014_2015.csv', index = False)\n",
    "df_2015_2016.to_csv('../data_preprocessed/data_2015_2016.csv', index = False)\n",
    "df_2016_2017.to_csv('../data_preprocessed/data_2016_2017.csv', index = False)\n",
    "df_2017_2018.to_csv('../data_preprocessed/data_2017_2018.csv', index = False)"
   ]
  }
 ],
 "metadata": {
  "kernelspec": {
   "display_name": "Python 3",
   "language": "python",
   "name": "python3"
  },
  "language_info": {
   "codemirror_mode": {
    "name": "ipython",
    "version": 3
   },
   "file_extension": ".py",
   "mimetype": "text/x-python",
   "name": "python",
   "nbconvert_exporter": "python",
   "pygments_lexer": "ipython3",
   "version": "3.8.8"
  }
 },
 "nbformat": 4,
 "nbformat_minor": 5
}
